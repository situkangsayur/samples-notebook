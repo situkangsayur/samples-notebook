{
 "cells": [
  {
   "cell_type": "code",
   "execution_count": 3,
   "metadata": {},
   "outputs": [
    {
     "data": {
      "text/plain": [
       "array([ 0,  1,  2,  3,  4,  5,  6,  7,  8,  9, 10, 11, 12, 13, 14, 15, 16,\n",
       "       17, 18, 19, 20, 21, 22, 23])"
      ]
     },
     "execution_count": 3,
     "metadata": {},
     "output_type": "execute_result"
    }
   ],
   "source": [
    "import numpy as np\n",
    "\n",
    "t = np.arange(24)\n",
    "t"
   ]
  },
  {
   "cell_type": "code",
   "execution_count": 15,
   "metadata": {},
   "outputs": [
    {
     "data": {
      "text/plain": [
       "array([[[ 0,  1,  2,  3],\n",
       "        [ 4,  5,  6,  7],\n",
       "        [ 8,  9, 10, 11]],\n",
       "\n",
       "       [[12, 13, 14, 15],\n",
       "        [16, 17, 18, 19],\n",
       "        [20, 21, 22, 23]]])"
      ]
     },
     "execution_count": 15,
     "metadata": {},
     "output_type": "execute_result"
    }
   ],
   "source": [
    "b = t.reshape(2,3,4)\n",
    "b"
   ]
  },
  {
   "cell_type": "code",
   "execution_count": 22,
   "metadata": {},
   "outputs": [
    {
     "data": {
      "text/plain": [
       "array([[11],\n",
       "       [ 7],\n",
       "       [ 3]])"
      ]
     },
     "execution_count": 22,
     "metadata": {},
     "output_type": "execute_result"
    }
   ],
   "source": [
    "b[0,::-1,:2:-1]"
   ]
  },
  {
   "cell_type": "code",
   "execution_count": 32,
   "metadata": {},
   "outputs": [
    {
     "data": {
      "text/plain": [
       "array([[ 0, 12],\n",
       "       [ 1, 13],\n",
       "       [ 2, 14],\n",
       "       [ 3, 15],\n",
       "       [ 4, 16],\n",
       "       [ 5, 17],\n",
       "       [ 6, 18],\n",
       "       [ 7, 19],\n",
       "       [ 8, 20],\n",
       "       [ 9, 21],\n",
       "       [10, 22],\n",
       "       [11, 23]])"
      ]
     },
     "execution_count": 32,
     "metadata": {},
     "output_type": "execute_result"
    }
   ],
   "source": [
    "b.transpose()"
   ]
  },
  {
   "cell_type": "code",
   "execution_count": 38,
   "metadata": {},
   "outputs": [
    {
     "data": {
      "text/plain": [
       "array([ 0,  1,  2,  3,  4,  5,  6,  7,  8,  9, 10, 11, 12, 13, 14, 15, 16,\n",
       "       17, 18, 19, 20, 21, 22, 23])"
      ]
     },
     "execution_count": 38,
     "metadata": {},
     "output_type": "execute_result"
    }
   ],
   "source": [
    "b.flatten()"
   ]
  },
  {
   "cell_type": "code",
   "execution_count": 44,
   "metadata": {},
   "outputs": [
    {
     "data": {
      "text/plain": [
       "array([[ 0,  2,  4],\n",
       "       [ 6,  8, 10],\n",
       "       [12, 14, 16]])"
      ]
     },
     "execution_count": 44,
     "metadata": {},
     "output_type": "execute_result"
    }
   ],
   "source": [
    "a = np.arange(9).reshape(3,3)\n",
    "b = 2 * a\n",
    "a\n",
    "b"
   ]
  },
  {
   "cell_type": "code",
   "execution_count": 50,
   "metadata": {},
   "outputs": [
    {
     "data": {
      "text/plain": [
       "array([[ 0,  1,  2],\n",
       "       [ 3,  4,  5],\n",
       "       [ 6,  7,  8],\n",
       "       [ 0,  2,  4],\n",
       "       [ 6,  8, 10],\n",
       "       [12, 14, 16]])"
      ]
     },
     "execution_count": 50,
     "metadata": {},
     "output_type": "execute_result"
    }
   ],
   "source": [
    "np.vstack((a,b))"
   ]
  },
  {
   "cell_type": "code",
   "execution_count": 53,
   "metadata": {},
   "outputs": [
    {
     "data": {
      "text/plain": [
       "array([[ 0,  1,  2,  0,  2,  4],\n",
       "       [ 3,  4,  5,  6,  8, 10],\n",
       "       [ 6,  7,  8, 12, 14, 16]])"
      ]
     },
     "execution_count": 53,
     "metadata": {},
     "output_type": "execute_result"
    }
   ],
   "source": [
    "np.hstack((a,b))"
   ]
  },
  {
   "cell_type": "code",
   "execution_count": 55,
   "metadata": {},
   "outputs": [
    {
     "data": {
      "text/plain": [
       "array([[ 0,  1,  2],\n",
       "       [ 3,  4,  5],\n",
       "       [ 6,  7,  8],\n",
       "       [ 0,  2,  4],\n",
       "       [ 6,  8, 10],\n",
       "       [12, 14, 16]])"
      ]
     },
     "execution_count": 55,
     "metadata": {},
     "output_type": "execute_result"
    }
   ],
   "source": [
    "np.concatenate((a, b), axis=0)"
   ]
  },
  {
   "cell_type": "code",
   "execution_count": 57,
   "metadata": {},
   "outputs": [
    {
     "data": {
      "text/plain": [
       "array([[[ 0,  0],\n",
       "        [ 1,  2],\n",
       "        [ 2,  4]],\n",
       "\n",
       "       [[ 3,  6],\n",
       "        [ 4,  8],\n",
       "        [ 5, 10]],\n",
       "\n",
       "       [[ 6, 12],\n",
       "        [ 7, 14],\n",
       "        [ 8, 16]]])"
      ]
     },
     "execution_count": 57,
     "metadata": {},
     "output_type": "execute_result"
    }
   ],
   "source": [
    "np.dstack((a,b))"
   ]
  },
  {
   "cell_type": "code",
   "execution_count": 61,
   "metadata": {},
   "outputs": [
    {
     "data": {
      "text/plain": [
       "array([0, 1])"
      ]
     },
     "execution_count": 61,
     "metadata": {},
     "output_type": "execute_result"
    }
   ],
   "source": [
    "oned = np.arange(2)\n",
    "oned"
   ]
  },
  {
   "cell_type": "code",
   "execution_count": 64,
   "metadata": {},
   "outputs": [
    {
     "data": {
      "text/plain": [
       "array([0, 2])"
      ]
     },
     "execution_count": 64,
     "metadata": {},
     "output_type": "execute_result"
    }
   ],
   "source": [
    "twice_oned = 2 * oned\n",
    "twice_oned"
   ]
  },
  {
   "cell_type": "code",
   "execution_count": 68,
   "metadata": {},
   "outputs": [
    {
     "data": {
      "text/plain": [
       "array([[0, 0],\n",
       "       [1, 2]])"
      ]
     },
     "execution_count": 68,
     "metadata": {},
     "output_type": "execute_result"
    }
   ],
   "source": [
    "np.column_stack((oned,twice_oned))"
   ]
  },
  {
   "cell_type": "code",
   "execution_count": 70,
   "metadata": {},
   "outputs": [
    {
     "data": {
      "text/plain": [
       "array([[ 0,  1,  2,  0,  2,  4],\n",
       "       [ 3,  4,  5,  6,  8, 10],\n",
       "       [ 6,  7,  8, 12, 14, 16]])"
      ]
     },
     "execution_count": 70,
     "metadata": {},
     "output_type": "execute_result"
    }
   ],
   "source": [
    "np.column_stack((a,b))"
   ]
  },
  {
   "cell_type": "code",
   "execution_count": 74,
   "metadata": {},
   "outputs": [
    {
     "data": {
      "text/plain": [
       "array([[ True,  True,  True,  True,  True,  True],\n",
       "       [ True,  True,  True,  True,  True,  True],\n",
       "       [ True,  True,  True,  True,  True,  True]])"
      ]
     },
     "execution_count": 74,
     "metadata": {},
     "output_type": "execute_result"
    }
   ],
   "source": [
    "np.column_stack((a,b)) == np.column_stack((a,b))"
   ]
  },
  {
   "cell_type": "code",
   "execution_count": 77,
   "metadata": {},
   "outputs": [
    {
     "data": {
      "text/plain": [
       "array([[ 0,  1,  2],\n",
       "       [ 3,  4,  5],\n",
       "       [ 6,  7,  8],\n",
       "       [ 0,  2,  4],\n",
       "       [ 6,  8, 10],\n",
       "       [12, 14, 16]])"
      ]
     },
     "execution_count": 77,
     "metadata": {},
     "output_type": "execute_result"
    }
   ],
   "source": [
    "np.row_stack((a,b))"
   ]
  },
  {
   "cell_type": "code",
   "execution_count": 84,
   "metadata": {},
   "outputs": [
    {
     "data": {
      "text/plain": [
       "[array([[ 0],\n",
       "        [ 3],\n",
       "        [ 6],\n",
       "        [ 0],\n",
       "        [ 6],\n",
       "        [12]]), array([[ 1],\n",
       "        [ 4],\n",
       "        [ 7],\n",
       "        [ 2],\n",
       "        [ 8],\n",
       "        [14]]), array([[ 2],\n",
       "        [ 5],\n",
       "        [ 8],\n",
       "        [ 4],\n",
       "        [10],\n",
       "        [16]])]"
      ]
     },
     "execution_count": 84,
     "metadata": {},
     "output_type": "execute_result"
    }
   ],
   "source": [
    "np.hsplit(np.row_stack((a,b)),3)"
   ]
  },
  {
   "cell_type": "code",
   "execution_count": 91,
   "metadata": {},
   "outputs": [
    {
     "data": {
      "text/plain": [
       "array([[ 0,  2,  4],\n",
       "       [ 6,  8, 10],\n",
       "       [12, 14, 16]])"
      ]
     },
     "execution_count": 91,
     "metadata": {},
     "output_type": "execute_result"
    }
   ],
   "source": [
    "temp = a*2\n",
    "temp"
   ]
  },
  {
   "cell_type": "code",
   "execution_count": 95,
   "metadata": {},
   "outputs": [
    {
     "data": {
      "text/plain": [
       "array([ 2, 12])"
      ]
     },
     "execution_count": 95,
     "metadata": {},
     "output_type": "execute_result"
    }
   ],
   "source": [
    "temp.flat[[1,6]]"
   ]
  },
  {
   "cell_type": "code",
   "execution_count": 99,
   "metadata": {},
   "outputs": [
    {
     "data": {
      "text/plain": [
       "array([[1., 0.],\n",
       "       [0., 1.]])"
      ]
     },
     "execution_count": 99,
     "metadata": {},
     "output_type": "execute_result"
    }
   ],
   "source": [
    "t2=np.eye(2)\n",
    "t2"
   ]
  },
  {
   "cell_type": "code",
   "execution_count": 109,
   "metadata": {},
   "outputs": [
    {
     "name": "stdout",
     "output_type": "stream",
     "text": [
      "[21144800. 13473000. 15236800.  9242600. 14064100. 11494200. 17322100.\n",
      " 13608500. 17240800. 33162400. 13127500. 11086200. 10149000. 17184100.\n",
      " 18949000. 29144500. 31162200. 23994700. 17853500. 13572000. 14395400.\n",
      " 16290300. 21521000. 17885200. 16188000. 19504300. 12718000. 16192700.\n",
      " 18138800. 16824200.]\n",
      "[336.1  339.32 345.03 344.32 343.44 346.5  351.88 355.2  358.16 354.54\n",
      " 356.85 359.18 359.9  363.13 358.3  350.56 338.61 342.62 342.88 348.16\n",
      " 353.21 349.31 352.12 359.56 360.   355.36 355.76 352.47 346.67 351.99]\n"
     ]
    },
    {
     "data": {
      "text/plain": [
       "350.5895493532009"
      ]
     },
     "execution_count": 109,
     "metadata": {},
     "output_type": "execute_result"
    }
   ],
   "source": [
    "c,v = np.loadtxt('data.csv', delimiter=',',usecols=(6,7), unpack=True)\n",
    "print(v)\n",
    "print(c)\n",
    "vwap = np.average(c, weights=v)\n",
    "vwap"
   ]
  },
  {
   "cell_type": "code",
   "execution_count": 111,
   "metadata": {},
   "outputs": [
    {
     "data": {
      "text/plain": [
       "351.0376666666667"
      ]
     },
     "execution_count": 111,
     "metadata": {},
     "output_type": "execute_result"
    }
   ],
   "source": [
    "np.mean(c)"
   ]
  },
  {
   "cell_type": "code",
   "execution_count": 120,
   "metadata": {},
   "outputs": [
    {
     "name": "stdout",
     "output_type": "stream",
     "text": [
      "[344.4  340.04 345.65 345.25 344.24 346.7  353.25 355.52 359.   360.\n",
      " 357.8  359.48 359.97 364.9  360.27 359.5  345.4  344.64 345.15 348.43\n",
      " 355.05 355.72 354.35 359.79 360.29 361.67 357.4  354.76 349.77 352.32]\n",
      "364.9\n",
      "333.53\n",
      "362.7\n"
     ]
    },
    {
     "data": {
      "text/plain": [
       "24.859999999999957"
      ]
     },
     "execution_count": 120,
     "metadata": {},
     "output_type": "execute_result"
    }
   ],
   "source": [
    "h,l = np.loadtxt('data.csv',delimiter=',', usecols=(4,5), unpack=True)\n",
    "print(h)\n",
    "print(np.max(h))\n",
    "print(np.min(l))\n",
    "print((np.max(h) + np.max(l))/2)\n",
    "np.ptp(h)"
   ]
  },
  {
   "cell_type": "code",
   "execution_count": 157,
   "metadata": {},
   "outputs": [
    {
     "name": "stdout",
     "output_type": "stream",
     "text": [
      "[336.1  339.32 345.03 344.32 343.44 346.5  351.88 355.2  358.16 354.54\n",
      " 356.85 359.18 359.9  363.13 358.3  350.56 338.61 342.62 342.88 348.16\n",
      " 353.21 349.31 352.12 359.56 360.   355.36 355.76 352.47 346.67 351.99]\n",
      "352.055\n",
      "50.126517888888884\n",
      "[336.1  338.61 339.32 342.62 342.88 343.44 344.32 345.03 346.5  346.67\n",
      " 348.16 349.31 350.56 351.88 351.99 352.12 352.47 353.21 354.54 355.2\n",
      " 355.36 355.76 356.85 358.16 358.3  359.18 359.56 359.9  360.   363.13]\n",
      "14\n",
      "middle = 351.99\n",
      "average middle = 352.0\n",
      "variance = 50.126517888888884\n",
      "variance from definition = 50.126517888888884\n"
     ]
    }
   ],
   "source": [
    "c=np.loadtxt('data.csv', delimiter=',', usecols=(6,), unpack=True)\n",
    "sort = np.msort(c)\n",
    "print(c)\n",
    "print(np.median(c))\n",
    "print(np.mean((c-c.mean())**2))\n",
    "\n",
    "N = len(c)\n",
    "print(sort)\n",
    "print((N - 1)//2)\n",
    "print(\"middle =\", sort[(N - 1)//2])\n",
    "print(\"average middle =\", (sort[N //2] + sort[(N - 1) // 2]) // 2)\n",
    "print(\"variance =\", np.var(c))\n",
    "print(\"variance from definition =\", np.mean((c - c.mean())**2))"
   ]
  },
  {
   "cell_type": "code",
   "execution_count": 169,
   "metadata": {},
   "outputs": [
    {
     "name": "stdout",
     "output_type": "stream",
     "text": [
      "[344.4  340.04 345.65 345.25 344.24 346.7  353.25 355.52 359.   360.\n",
      " 357.8  359.48 359.97 364.9  360.27 359.5  345.4  344.64 345.15 348.43\n",
      " 355.05 355.72 354.35 359.79 360.29 361.67 357.4  354.76 349.77 352.32]\n",
      "\n",
      "[344.4  340.04 345.65 345.25 344.24 346.7  353.25 355.52 359.   360.\n",
      " 357.8  359.48 359.97 364.9  360.27 359.5  345.4  344.64 345.15 348.43\n",
      " 355.05 355.72 354.35 359.79 360.29 361.67 357.4  354.76 349.77]\n",
      "\n",
      "[ -4.36   5.61  -0.4   -1.01   2.46   6.55   2.27   3.48   1.    -2.2\n",
      "   1.68   0.49   4.93  -4.63  -0.77 -14.1   -0.76   0.51   3.28   6.62\n",
      "   0.67  -1.37   5.44   0.5    1.38  -4.27  -2.64  -4.99   2.55]\n",
      "[344.4  340.04 345.65 345.25 344.24 346.7  353.25 355.52 359.   360.\n",
      " 357.8  359.48 359.97 364.9  360.27 359.5  345.4  344.64 345.15 348.43\n",
      " 355.05 355.72 354.35 359.79 360.29 361.67 357.4  354.76 349.77 352.32]\n",
      "\n",
      "6.687546211678345\n"
     ]
    },
    {
     "data": {
      "text/plain": [
       "array([-0.0126597 ,  0.01649806, -0.00115724, -0.00292542,  0.00714618,\n",
       "        0.01889241,  0.00642604,  0.00978848,  0.00278552, -0.00611111,\n",
       "        0.00469536,  0.00136308,  0.01369559, -0.01268841, -0.00213729,\n",
       "       -0.03922114, -0.00220035,  0.00147981,  0.00950311,  0.01899951,\n",
       "        0.00188706, -0.00385134,  0.01535205,  0.0013897 ,  0.00383025,\n",
       "       -0.01180634, -0.00738668, -0.01406585,  0.00729051])"
      ]
     },
     "execution_count": 169,
     "metadata": {},
     "output_type": "execute_result"
    }
   ],
   "source": [
    "returns = np.diff( h ) / h[ : -1]\n",
    "print(h)\n",
    "print()\n",
    "print(h[:-1])\n",
    "print()\n",
    "print(np.diff(h))\n",
    "print(h)\n",
    "print()\n",
    "print(np.std(h))\n",
    "returns"
   ]
  },
  {
   "cell_type": "code",
   "execution_count": 177,
   "metadata": {},
   "outputs": [
    {
     "name": "stdout",
     "output_type": "stream",
     "text": [
      "[5.81740873 5.82694361 5.84363137 5.84157146 5.83901242 5.84788282\n",
      " 5.86329021 5.87268101 5.88097981 5.87082117 5.87731553 5.88382366\n",
      " 5.88582622 5.8947609  5.88137062 5.85953188 5.824849   5.83662196\n",
      " 5.83738053 5.85266214 5.86706278 5.85595978 5.86397203 5.88488106\n",
      " 5.88610403 5.87313136 5.87425635 5.86496551 5.84837332 5.86360277]\n",
      "[ 0.00953488  0.01668775 -0.00205991 -0.00255903  0.00887039  0.01540739\n",
      "  0.0093908   0.0082988  -0.01015864  0.00649435  0.00650813  0.00200256\n",
      "  0.00893468 -0.01339027 -0.02183875 -0.03468287  0.01177296  0.00075857\n",
      "  0.01528161  0.01440064 -0.011103    0.00801225  0.02090904  0.00122297\n",
      " -0.01297267  0.00112499 -0.00929083 -0.01659219  0.01522945]\n",
      "----\n",
      "(array([ 1,  4,  5,  6,  7,  8, 10, 11, 12, 17, 18, 19, 20, 22, 23, 24, 28]),)\n",
      "8.14354630702448\n",
      "129.27478991115132\n"
     ]
    }
   ],
   "source": [
    "logreturns = np.diff(np.log(c))\n",
    "print(np.log(c))\n",
    "print(logreturns)\n",
    "posretindices = np.where(returns > 0)\n",
    "print('----')\n",
    "print(posretindices)\n",
    "\n",
    "annual_volatility = np.std(logreturns)/np.mean(logreturns)\n",
    "print(annual_volatility)\n",
    "annual_volatility = annual_volatility / np.sqrt(1./252.)\n",
    "print(annual_volatility)"
   ]
  },
  {
   "cell_type": "code",
   "execution_count": 195,
   "metadata": {},
   "outputs": [
    {
     "name": "stdout",
     "output_type": "stream",
     "text": [
      "[4. 0. 1. 2. 3. 4. 0. 1. 2. 3. 4. 0. 1. 2. 3. 4.]\n",
      "The first Monday index is 1\n",
      "The last Friday index is 15\n",
      "Weeks indices initial [ 1  2  3  4  5  6  7  8  9 10 11 12 13 14 15]\n",
      "[array([1, 2, 3, 4, 5]), array([ 6,  7,  8,  9, 10]), array([11, 12, 13, 14, 15])]\n",
      "Weeks indices after split [array([1, 2, 3, 4, 5]), array([ 6,  7,  8,  9, 10]), array([11, 12, 13, 14, 15])]\n"
     ]
    },
    {
     "ename": "NameError",
     "evalue": "name 'monday_open' is not defined",
     "output_type": "error",
     "traceback": [
      "\u001b[0;31m---------------------------------------------------------------------------\u001b[0m",
      "\u001b[0;31mNameError\u001b[0m                                 Traceback (most recent call last)",
      "\u001b[0;32m<ipython-input-195-078924952ed7>\u001b[0m in \u001b[0;36m<module>\u001b[0;34m()\u001b[0m\n\u001b[1;32m     28\u001b[0m     \u001b[0;32mreturn\u001b[0m\u001b[0;34m(\u001b[0m\u001b[0;34m\"APPL\"\u001b[0m\u001b[0;34m,\u001b[0m \u001b[0mmonday_open\u001b[0m\u001b[0;34m,\u001b[0m \u001b[0mweek_high\u001b[0m\u001b[0;34m,\u001b[0m \u001b[0mweek_low\u001b[0m\u001b[0;34m,\u001b[0m \u001b[0mfriday_close\u001b[0m\u001b[0;34m)\u001b[0m\u001b[0;34m\u001b[0m\u001b[0m\n\u001b[1;32m     29\u001b[0m weeksummary = np.apply_along_axis(summarize, 1, weeks_indices, open,\n\u001b[0;32m---> 30\u001b[0;31m high, low, close)\n\u001b[0m\u001b[1;32m     31\u001b[0m \u001b[0mprint\u001b[0m\u001b[0;34m(\u001b[0m\u001b[0;34m\"Week summary\"\u001b[0m\u001b[0;34m,\u001b[0m \u001b[0mweeksummary\u001b[0m\u001b[0;34m)\u001b[0m\u001b[0;34m\u001b[0m\u001b[0m\n\u001b[1;32m     32\u001b[0m \u001b[0mnp\u001b[0m\u001b[0;34m.\u001b[0m\u001b[0msavetxt\u001b[0m\u001b[0;34m(\u001b[0m\u001b[0;34m\"weeksummary.csv\"\u001b[0m\u001b[0;34m,\u001b[0m \u001b[0mweeksummary\u001b[0m\u001b[0;34m,\u001b[0m \u001b[0mdelimiter\u001b[0m\u001b[0;34m=\u001b[0m\u001b[0;34m\",\"\u001b[0m\u001b[0;34m,\u001b[0m \u001b[0mfmt\u001b[0m\u001b[0;34m=\u001b[0m\u001b[0;34m\"%s\"\u001b[0m\u001b[0;34m)\u001b[0m\u001b[0;34m\u001b[0m\u001b[0m\n",
      "\u001b[0;32m~/.local/lib/python3.5/site-packages/numpy/lib/shape_base.py\u001b[0m in \u001b[0;36mapply_along_axis\u001b[0;34m(func1d, axis, arr, *args, **kwargs)\u001b[0m\n\u001b[1;32m    130\u001b[0m     \u001b[0;32mexcept\u001b[0m \u001b[0mStopIteration\u001b[0m\u001b[0;34m:\u001b[0m\u001b[0;34m\u001b[0m\u001b[0m\n\u001b[1;32m    131\u001b[0m         \u001b[0;32mraise\u001b[0m \u001b[0mValueError\u001b[0m\u001b[0;34m(\u001b[0m\u001b[0;34m'Cannot apply_along_axis when any iteration dimensions are 0'\u001b[0m\u001b[0;34m)\u001b[0m\u001b[0;34m\u001b[0m\u001b[0m\n\u001b[0;32m--> 132\u001b[0;31m     \u001b[0mres\u001b[0m \u001b[0;34m=\u001b[0m \u001b[0masanyarray\u001b[0m\u001b[0;34m(\u001b[0m\u001b[0mfunc1d\u001b[0m\u001b[0;34m(\u001b[0m\u001b[0minarr_view\u001b[0m\u001b[0;34m[\u001b[0m\u001b[0mind0\u001b[0m\u001b[0;34m]\u001b[0m\u001b[0;34m,\u001b[0m \u001b[0;34m*\u001b[0m\u001b[0margs\u001b[0m\u001b[0;34m,\u001b[0m \u001b[0;34m**\u001b[0m\u001b[0mkwargs\u001b[0m\u001b[0;34m)\u001b[0m\u001b[0;34m)\u001b[0m\u001b[0;34m\u001b[0m\u001b[0m\n\u001b[0m\u001b[1;32m    133\u001b[0m \u001b[0;34m\u001b[0m\u001b[0m\n\u001b[1;32m    134\u001b[0m     \u001b[0;31m# build a buffer for storing evaluations of func1d.\u001b[0m\u001b[0;34m\u001b[0m\u001b[0;34m\u001b[0m\u001b[0m\n",
      "\u001b[0;32m<ipython-input-195-078924952ed7>\u001b[0m in \u001b[0;36msummarize\u001b[0;34m(a, o, h, l, c)\u001b[0m\n\u001b[1;32m     26\u001b[0m     \u001b[0mweek_low\u001b[0m \u001b[0;34m=\u001b[0m \u001b[0mnp\u001b[0m\u001b[0;34m.\u001b[0m\u001b[0mmin\u001b[0m\u001b[0;34m(\u001b[0m \u001b[0mnp\u001b[0m\u001b[0;34m.\u001b[0m\u001b[0mtake\u001b[0m\u001b[0;34m(\u001b[0m\u001b[0ml\u001b[0m\u001b[0;34m,\u001b[0m \u001b[0ma\u001b[0m\u001b[0;34m)\u001b[0m \u001b[0;34m)\u001b[0m\u001b[0;34m\u001b[0m\u001b[0m\n\u001b[1;32m     27\u001b[0m     \u001b[0mfriday_close\u001b[0m \u001b[0;34m=\u001b[0m \u001b[0mc\u001b[0m\u001b[0;34m[\u001b[0m\u001b[0ma\u001b[0m\u001b[0;34m[\u001b[0m\u001b[0;34m-\u001b[0m\u001b[0;36m1\u001b[0m\u001b[0;34m]\u001b[0m\u001b[0;34m]\u001b[0m\u001b[0;34m\u001b[0m\u001b[0m\n\u001b[0;32m---> 28\u001b[0;31m     \u001b[0;32mreturn\u001b[0m\u001b[0;34m(\u001b[0m\u001b[0;34m\"APPL\"\u001b[0m\u001b[0;34m,\u001b[0m \u001b[0mmonday_open\u001b[0m\u001b[0;34m,\u001b[0m \u001b[0mweek_high\u001b[0m\u001b[0;34m,\u001b[0m \u001b[0mweek_low\u001b[0m\u001b[0;34m,\u001b[0m \u001b[0mfriday_close\u001b[0m\u001b[0;34m)\u001b[0m\u001b[0;34m\u001b[0m\u001b[0m\n\u001b[0m\u001b[1;32m     29\u001b[0m weeksummary = np.apply_along_axis(summarize, 1, weeks_indices, open,\n\u001b[1;32m     30\u001b[0m high, low, close)\n",
      "\u001b[0;31mNameError\u001b[0m: name 'monday_open' is not defined"
     ]
    }
   ],
   "source": [
    "import datetime\n",
    "def datestr2num(s):\n",
    "    return datetime.datetime.strptime(s.decode('utf-8'), \"%d-%m-%Y\").date().weekday()\n",
    "\n",
    "dates, close=np.loadtxt('data.csv', delimiter=',', usecols=(1,6),converters={1: datestr2num}, unpack=True)\n",
    "dates\n",
    "\n",
    "dates, open, high, low, close=np.loadtxt('data.csv', delimiter=',',\n",
    "usecols=(1, 3, 4, 5, 6), converters={1: datestr2num}, unpack=True)\n",
    "close = close[:16]\n",
    "dates = dates[:16]\n",
    "print(dates)\n",
    "# get first Monday\n",
    "first_monday = np.ravel(np.where(dates == 0))[0]\n",
    "print(\"The first Monday index is\", first_monday)\n",
    "# get last Friday\n",
    "last_friday = np.ravel(np.where(dates == 4))[-1]\n",
    "print(\"The last Friday index is\", last_friday)\n",
    "weeks_indices = np.arange(first_monday, last_friday + 1)\n",
    "print(\"Weeks indices initial\", weeks_indices)\n",
    "weeks_indices = np.split(weeks_indices, 3)\n",
    "print(weeks_indices)\n",
    "print(\"Weeks indices after split\", weeks_indices)\n",
    "def summarize(a, o, h, l, c): \n",
    "    week_high = np.max( np.take(h, a) )\n",
    "    week_low = np.min( np.take(l, a) )\n",
    "    friday_close = c[a[-1]]\n",
    "    return(\"APPL\", monday_open, week_high, week_low, friday_close)\n",
    "weeksummary = np.apply_along_axis(summarize, 1, weeks_indices, open,\n",
    "high, low, close)\n",
    "print(\"Week summary\", weeksummary)\n",
    "np.savetxt(\"weeksummary.csv\", weeksummary, delimiter=\",\", fmt=\"%s\")"
   ]
  },
  {
   "cell_type": "code",
   "execution_count": 196,
   "metadata": {},
   "outputs": [],
   "source": [
    "averages = np.zeros(5)"
   ]
  },
  {
   "cell_type": "code",
   "execution_count": 197,
   "metadata": {},
   "outputs": [
    {
     "name": "stdout",
     "output_type": "stream",
     "text": [
      "Day 0 prices [[339.32 351.88 359.18]] Average 350.1266666666667\n",
      "Day 1 prices [[345.03 355.2  359.9 ]] Average 353.3766666666667\n",
      "Day 2 prices [[344.32 358.16 363.13]] Average 355.2033333333334\n",
      "Day 3 prices [[343.44 354.54 358.3 ]] Average 352.0933333333333\n",
      "Day 4 prices [[336.1  346.5  356.85 350.56]] Average 347.5025\n"
     ]
    }
   ],
   "source": [
    "for i in range(5):\n",
    "    indices = np.where(dates == i)\n",
    "    prices = np.take(close, indices)\n",
    "    avg = np.mean(prices)\n",
    "    print(\"Day\", i, \"prices\", prices, \"Average\", avg)\n",
    "    averages[i] = avg"
   ]
  },
  {
   "cell_type": "code",
   "execution_count": 222,
   "metadata": {},
   "outputs": [
    {
     "name": "stdout",
     "output_type": "stream",
     "text": [
      "Weights [0.2 0.2 0.2 0.2 0.2]\n",
      "c :  [336.1  339.32 345.03 344.32 343.44 346.5  351.88 355.2  358.16 354.54\n",
      " 356.85 359.18 359.9  363.13 358.3  350.56 338.61 342.62 342.88 348.16\n",
      " 353.21 349.31 352.12 359.56 360.   355.36 355.76 352.47 346.67 351.99]\n",
      "before sub :  [ 67.22  135.084 204.09  272.954 341.642 343.722 346.234 348.268 351.036\n",
      " 353.256 355.326 356.786 357.726 358.72  359.472 358.214 354.1   350.644\n",
      " 346.594 344.566 345.096 347.236 349.136 352.472 354.84  355.27  356.56\n",
      " 356.63  354.052 352.45  281.378 210.226 139.732  70.398]\n",
      "sma :  [341.642 343.722 346.234 348.268 351.036 353.256 355.326 356.786 357.726\n",
      " 358.72  359.472 358.214 354.1   350.644 346.594 344.566 345.096 347.236\n",
      " 349.136 352.472 354.84  355.27  356.56  356.63  354.052 352.45 ]\n",
      "[ 0  1  2  3  4  5  6  7  8  9 10 11 12 13 14 15 16 17 18 19 20 21 22 23\n",
      " 24 25 26 27 28 29 30 31 32 33 34 35 36 37 38 39 40 41 42 43 44 45 46 47\n",
      " 48 49]\n",
      "[ 4  5  6  7  8  9 10 11 12 13 14 15 16 17 18 19 20 21 22 23 24 25 26 27\n",
      " 28 29 30 31 32 33 34 35 36 37 38 39 40 41 42 43 44 45]\n"
     ]
    },
    {
     "data": {
      "image/png": "[encoded data removed]",
      "text/plain": [
       "<Figure size 432x288 with 1 Axes>"
      ]
     },
     "metadata": {},
     "output_type": "display_data"
    }
   ],
   "source": [
    "from __future__ import print_function\n",
    "import numpy as np\n",
    "import matplotlib.pyplot as plt\n",
    "N = 5\n",
    "weights = np.ones(N) / N\n",
    "print(\"Weights\", weights)\n",
    "c = np.loadtxt('data.csv', delimiter=',', usecols=(6,), unpack=True)\n",
    "sma = np.convolve(weights, c)[N-1:-N+1]\n",
    "print('c : ', c)\n",
    "print('before sub : ',np.convolve(weights, c))\n",
    "print('sma : ',sma)\n",
    "test=np.arange(50)\n",
    "print(test)\n",
    "print(test[N-1 : -N +1])\n",
    "t = np.arange(N - 1, len(c))\n",
    "plt.plot(t, c[N-1:], lw=1.0, label=\"Data\")\n",
    "plt.plot(t, sma, '--', lw=4.0, label=\"Moving average\")\n",
    "plt.title(\"5 Day Moving Average\")\n",
    "plt.xlabel(\"Days\")\n",
    "plt.ylabel(\"Price ($)\")\n",
    "plt.grid()\n",
    "plt.legend()\n",
    "plt.show()"
   ]
  },
  {
   "cell_type": "code",
   "execution_count": 232,
   "metadata": {},
   "outputs": [
    {
     "name": "stdout",
     "output_type": "stream",
     "text": [
      "Weights [0.2 0.2 0.2 0.2 0.2]\n",
      "26 26\n"
     ]
    },
    {
     "data": {
      "image/png": "[encoded data removed]",
      "text/plain": [
       "<Figure size 432x288 with 1 Axes>"
      ]
     },
     "metadata": {},
     "output_type": "display_data"
    },
    {
     "name": "stdout",
     "output_type": "stream",
     "text": [
      "Exp [ 1.          2.71828183  7.3890561  20.08553692 54.59815003]\n",
      "Linspace [-1.   -0.75 -0.5  -0.25  0.  ]\n",
      "[336.1  339.32 345.03 344.32 343.44 346.5  351.88 355.2  358.16 354.54\n",
      " 356.85 359.18 359.9  363.13 358.3  350.56 338.61 342.62 342.88 348.16\n",
      " 353.21 349.31 352.12 359.56 360.   355.36 355.76 352.47 346.67 351.99]\n"
     ]
    },
    {
     "data": {
      "text/plain": [
       "array([355.36, 355.76, 352.47, 346.67, 351.99])"
      ]
     },
     "execution_count": 232,
     "metadata": {},
     "output_type": "execute_result"
    }
   ],
   "source": [
    "N = 5\n",
    "weights = np.ones(N) / N\n",
    "print(\"Weights\", weights)\n",
    "c = np.loadtxt('data.csv', delimiter=',', usecols=(6,), unpack=True)\n",
    "sma = np.convolve(weights, c)[N-1:-N+1]\n",
    "deviation = []\n",
    "C = len(c)\n",
    "for i in range(N - 1, C):\n",
    "    if i + N < C:\n",
    "        dev = c[i: i + N]\n",
    "    else:\n",
    "        dev = c[-N:]\n",
    "    averages = np.zeros(N)\n",
    "    averages.fill(sma[i - N - 1])\n",
    "    dev = dev - averages\n",
    "    dev = dev ** 2\n",
    "    dev = np.sqrt(np.mean(dev))\n",
    "    deviation.append(dev)\n",
    "deviation = 2 * np.array(deviation)\n",
    "print(len(deviation), len(sma))\n",
    "upperBB = sma + deviation\n",
    "lowerBB = sma - deviation\n",
    "c_slice = c[N-1:]\n",
    "between_bands = np.where((c_slice < upperBB) & (c_slice > lowerBB))\n",
    "between_bands = len(np.ravel(between_bands))\n",
    "\n",
    "t = np.arange(N - 1, C)\n",
    "plt.plot(t, c_slice, lw=1.0, label='Data')\n",
    "plt.plot(t, sma, '--', lw=2.0, label='Moving Average')\n",
    "plt.plot(t, upperBB, '-.', lw=3.0, label='Upper Band')\n",
    "plt.plot(t, lowerBB, ':', lw=4.0, label='Lower Band')\n",
    "plt.title('Bollinger Bands')\n",
    "plt.xlabel('Days')\n",
    "plt.ylabel('Price ($)')\n",
    "plt.grid()\n",
    "plt.legend()\n",
    "plt.show()\n",
    "x = np.arange(5)\n",
    "print(\"Exp\", np.exp(x))\n",
    "print(\"Linspace\", np.linspace(-1, 0, 5))\n",
    "print(c)\n",
    "c[-N:]"
   ]
  },
  {
   "cell_type": "code",
   "execution_count": 248,
   "metadata": {},
   "outputs": [
    {
     "name": "stdout",
     "output_type": "stream",
     "text": [
      "[[1 2 3]\n",
      " [4 5 6]\n",
      " [7 8 9]]\n"
     ]
    },
    {
     "data": {
      "text/plain": [
       "matrix([[-4.50359963e+15,  9.00719925e+15, -4.50359963e+15],\n",
       "        [ 9.00719925e+15, -1.80143985e+16,  9.00719925e+15],\n",
       "        [-4.50359963e+15,  9.00719925e+15, -4.50359963e+15]])"
      ]
     },
     "execution_count": 248,
     "metadata": {},
     "output_type": "execute_result"
    }
   ],
   "source": [
    "A = np.mat('1 2 3; 4 5 6; 7 8 9')\n",
    "print(A)\n",
    "A.T\n",
    "np.zeros_like(A)\n",
    "np.linalg.inv(A)"
   ]
  },
  {
   "cell_type": "code",
   "execution_count": 270,
   "metadata": {},
   "outputs": [
    {
     "name": "stdout",
     "output_type": "stream",
     "text": [
      "[0 1 2 3 4 5 6 7 8 9]\n",
      "45\n",
      "[10  5 20 24]\n",
      "[ 6 22  8 15  9 11 24]\n"
     ]
    }
   ],
   "source": [
    "a = np.arange(10)\n",
    "print(a)\n",
    "print(np.add.reduce(a))\n",
    "print(np.add.reduceat(a,[0,5,2,7]))\n",
    "print(np.add.reduceat(a,[0,4,8,7,9,5,7]))"
   ]
  },
  {
   "cell_type": "code",
   "execution_count": 285,
   "metadata": {},
   "outputs": [
    {
     "name": "stdout",
     "output_type": "stream",
     "text": [
      "[2 6 5]\n",
      "[1 2 3]\n",
      "devide :  [2.         3.         1.66666667] [0.5        0.33333333 0.6       ]\n",
      "[-4 -3 -2 -1  0  1  2  3]\n",
      "[0 1 0 1 0 1 0 1]\n"
     ]
    }
   ],
   "source": [
    "a = np.array([2,6,5])\n",
    "b = np.array([1,2,3])\n",
    "print(a)\n",
    "print(b)\n",
    "print(\"devide : \", np.divide(a,b), np.divide(b,a))\n",
    "a1 = np.arange(-4,4)\n",
    "print(a1)\n",
    "print(np.remainder(a1,2))"
   ]
  },
  {
   "cell_type": "code",
   "execution_count": 301,
   "metadata": {},
   "outputs": [
    {
     "name": "stdout",
     "output_type": "stream",
     "text": [
      "[[5 3]\n",
      " [3 2]]\n",
      "8th Fibonacci 5\n",
      "\n",
      "Fibonacci [ 1.  1.  2.  3.  5.  8. 13. 21.]\n"
     ]
    }
   ],
   "source": [
    "F = np.matrix([[1, 1], [1, 0]])\n",
    "print(F*F*F*F)\n",
    "print(\"8th Fibonacci\", (F ** 4)[0, 0])\n",
    "print()\n",
    "n = np.arange(1, 9)\n",
    "sqrt5 = np.sqrt(5)\n",
    "phi = (1 + sqrt5)/2\n",
    "fibonacci = np.rint((phi**n - (-1/phi)**n)/sqrt5)\n",
    "print(\"Fibonacci\", fibonacci)"
   ]
  },
  {
   "cell_type": "code",
   "execution_count": 312,
   "metadata": {},
   "outputs": [
    {
     "name": "stdout",
     "output_type": "stream",
     "text": [
      "[-3.14159265e+00 -3.11017673e+00 -3.07876080e+00 -3.04734487e+00\n",
      " -3.01592895e+00 -2.98451302e+00 -2.95309709e+00 -2.92168117e+00\n",
      " -2.89026524e+00 -2.85884931e+00 -2.82743339e+00 -2.79601746e+00\n",
      " -2.76460154e+00 -2.73318561e+00 -2.70176968e+00 -2.67035376e+00\n",
      " -2.63893783e+00 -2.60752190e+00 -2.57610598e+00 -2.54469005e+00\n",
      " -2.51327412e+00 -2.48185820e+00 -2.45044227e+00 -2.41902634e+00\n",
      " -2.38761042e+00 -2.35619449e+00 -2.32477856e+00 -2.29336264e+00\n",
      " -2.26194671e+00 -2.23053078e+00 -2.19911486e+00 -2.16769893e+00\n",
      " -2.13628300e+00 -2.10486708e+00 -2.07345115e+00 -2.04203522e+00\n",
      " -2.01061930e+00 -1.97920337e+00 -1.94778745e+00 -1.91637152e+00\n",
      " -1.88495559e+00 -1.85353967e+00 -1.82212374e+00 -1.79070781e+00\n",
      " -1.75929189e+00 -1.72787596e+00 -1.69646003e+00 -1.66504411e+00\n",
      " -1.63362818e+00 -1.60221225e+00 -1.57079633e+00 -1.53938040e+00\n",
      " -1.50796447e+00 -1.47654855e+00 -1.44513262e+00 -1.41371669e+00\n",
      " -1.38230077e+00 -1.35088484e+00 -1.31946891e+00 -1.28805299e+00\n",
      " -1.25663706e+00 -1.22522113e+00 -1.19380521e+00 -1.16238928e+00\n",
      " -1.13097336e+00 -1.09955743e+00 -1.06814150e+00 -1.03672558e+00\n",
      " -1.00530965e+00 -9.73893723e-01 -9.42477796e-01 -9.11061870e-01\n",
      " -8.79645943e-01 -8.48230016e-01 -8.16814090e-01 -7.85398163e-01\n",
      " -7.53982237e-01 -7.22566310e-01 -6.91150384e-01 -6.59734457e-01\n",
      " -6.28318531e-01 -5.96902604e-01 -5.65486678e-01 -5.34070751e-01\n",
      " -5.02654825e-01 -4.71238898e-01 -4.39822972e-01 -4.08407045e-01\n",
      " -3.76991118e-01 -3.45575192e-01 -3.14159265e-01 -2.82743339e-01\n",
      " -2.51327412e-01 -2.19911486e-01 -1.88495559e-01 -1.57079633e-01\n",
      " -1.25663706e-01 -9.42477796e-02 -6.28318531e-02 -3.14159265e-02\n",
      "  4.44089210e-16  3.14159265e-02  6.28318531e-02  9.42477796e-02\n",
      "  1.25663706e-01  1.57079633e-01  1.88495559e-01  2.19911486e-01\n",
      "  2.51327412e-01  2.82743339e-01  3.14159265e-01  3.45575192e-01\n",
      "  3.76991118e-01  4.08407045e-01  4.39822972e-01  4.71238898e-01\n",
      "  5.02654825e-01  5.34070751e-01  5.65486678e-01  5.96902604e-01\n",
      "  6.28318531e-01  6.59734457e-01  6.91150384e-01  7.22566310e-01\n",
      "  7.53982237e-01  7.85398163e-01  8.16814090e-01  8.48230016e-01\n",
      "  8.79645943e-01  9.11061870e-01  9.42477796e-01  9.73893723e-01\n",
      "  1.00530965e+00  1.03672558e+00  1.06814150e+00  1.09955743e+00\n",
      "  1.13097336e+00  1.16238928e+00  1.19380521e+00  1.22522113e+00\n",
      "  1.25663706e+00  1.28805299e+00  1.31946891e+00  1.35088484e+00\n",
      "  1.38230077e+00  1.41371669e+00  1.44513262e+00  1.47654855e+00\n",
      "  1.50796447e+00  1.53938040e+00  1.57079633e+00  1.60221225e+00\n",
      "  1.63362818e+00  1.66504411e+00  1.69646003e+00  1.72787596e+00\n",
      "  1.75929189e+00  1.79070781e+00  1.82212374e+00  1.85353967e+00\n",
      "  1.88495559e+00  1.91637152e+00  1.94778745e+00  1.97920337e+00\n",
      "  2.01061930e+00  2.04203522e+00  2.07345115e+00  2.10486708e+00\n",
      "  2.13628300e+00  2.16769893e+00  2.19911486e+00  2.23053078e+00\n",
      "  2.26194671e+00  2.29336264e+00  2.32477856e+00  2.35619449e+00\n",
      "  2.38761042e+00  2.41902634e+00  2.45044227e+00  2.48185820e+00\n",
      "  2.51327412e+00  2.54469005e+00  2.57610598e+00  2.60752190e+00\n",
      "  2.63893783e+00  2.67035376e+00  2.70176968e+00  2.73318561e+00\n",
      "  2.76460154e+00  2.79601746e+00  2.82743339e+00  2.85884931e+00\n",
      "  2.89026524e+00  2.92168117e+00  2.95309709e+00  2.98451302e+00\n",
      "  3.01592895e+00  3.04734487e+00  3.07876080e+00  3.11017673e+00\n",
      "  3.14159265e+00]\n"
     ]
    },
    {
     "data": {
      "image/png": "[encoded data removed]",
      "text/plain": [
       "<Figure size 432x288 with 1 Axes>"
      ]
     },
     "metadata": {},
     "output_type": "display_data"
    }
   ],
   "source": [
    "import matplotlib.pyplot as plt\n",
    "a = 9\n",
    "b = 8\n",
    "t = np.linspace(-np.pi, np.pi, 201)\n",
    "\n",
    "x = np.sin(a * t + np.pi/2)\n",
    "y = np.sin(b * t)\n",
    "print(t)\n",
    "plt.plot(x, y)\n",
    "plt.title('Lissajous curves')\n",
    "plt.grid()\n",
    "plt.show()"
   ]
  },
  {
   "cell_type": "code",
   "execution_count": 317,
   "metadata": {},
   "outputs": [
    {
     "data": {
      "image/png": "[encoded data removed]",
      "text/plain": [
       "<Figure size 432x288 with 1 Axes>"
      ]
     },
     "metadata": {},
     "output_type": "display_data"
    }
   ],
   "source": [
    "t = np.linspace(-np.pi, np.pi, 201)\n",
    "k = np.arange(1, 99)\n",
    "k = 2 * k - 1\n",
    "f = np.zeros_like(t)\n",
    "\n",
    "for i, ti in enumerate(t):\n",
    "    f[i] = np.sum(np.sin(k * ti)/k)\n",
    "\n",
    "f = (4 / np.pi) * f\n",
    "plt.plot(t, f)\n",
    "plt.title('Square wave')\n",
    "plt.grid()\n",
    "plt.show()"
   ]
  },
  {
   "cell_type": "code",
   "execution_count": 432,
   "metadata": {},
   "outputs": [
    {
     "name": "stdout",
     "output_type": "stream",
     "text": [
      "[ 1  2  2 -3  2  2  0]\n"
     ]
    }
   ],
   "source": [
    "a = np.random.randint(-3, 3, 7)\n",
    "print(a)\n"
   ]
  },
  {
   "cell_type": "code",
   "execution_count": 452,
   "metadata": {},
   "outputs": [
    {
     "data": {
      "text/plain": [
       "array([ 1,  1,  2, -1,  2,  1,  0])"
      ]
     },
     "execution_count": 452,
     "metadata": {},
     "output_type": "execute_result"
    }
   ],
   "source": [
    "np.sign.at(a, [3, 5])\n",
    "a"
   ]
  },
  {
   "cell_type": "code",
   "execution_count": 457,
   "metadata": {},
   "outputs": [
    {
     "data": {
      "text/plain": [
       "matrix([[1., 0., 0.],\n",
       "        [0., 1., 0.],\n",
       "        [0., 0., 1.]])"
      ]
     },
     "execution_count": 457,
     "metadata": {},
     "output_type": "execute_result"
    }
   ],
   "source": [
    "A = np.mat(\"0 1 2;1 0 3;4 -3 8\")\n",
    "invers = A.I\n",
    "A*invers"
   ]
  },
  {
   "cell_type": "code",
   "execution_count": 473,
   "metadata": {},
   "outputs": [
    {
     "name": "stdout",
     "output_type": "stream",
     "text": [
      "A\n",
      " [[ 1 -2  1]\n",
      " [ 0  2 -8]\n",
      " [-4  5  9]]\n",
      "b\n",
      " [ 0  8 -9]\n",
      "Solution [29. 16.  3.]\n",
      "Check\n",
      " [[ 0.  8. -9.]]\n",
      "Check\n",
      " [[8.]]\n",
      "[0.02752148+0.j         5.98623926+6.06922064j 5.98623926-6.06922064j]\n",
      "\n",
      "[[ 3 -2]\n",
      " [ 1  0]]\n",
      "[2. 1.]\n",
      "[[0.89442719 0.70710678]\n",
      " [0.4472136  0.70710678]]\n",
      "\n",
      "Left [[1.78885438]\n",
      " [0.89442719]]\n",
      "Right [[1.78885438]\n",
      " [0.89442719]]\n",
      "\n",
      "Left [[0.70710678]\n",
      " [0.70710678]]\n",
      "Right [[0.70710678]\n",
      " [0.70710678]]\n",
      "\n"
     ]
    }
   ],
   "source": [
    "from __future__ import print_function\n",
    "import numpy as np\n",
    "A = np.mat(\"1 -2 1;0 2 -8;-4 5 9\")\n",
    "test = np.mat(\"0 2 -8\")\n",
    "print(\"A\\n\", A)\n",
    "b = np.array([0, 8, -9])\n",
    "print(\"b\\n\", b)\n",
    "x = np.linalg.solve(A, b)\n",
    "print(\"Solution\", x)\n",
    "print(\"Check\\n\", np.dot(A , x))\n",
    "print(\"Check\\n\", np.dot(test , x))\n",
    "\n",
    "eig = np.linalg.eigvals(A)\n",
    "\n",
    "print(eig)\n",
    "print()\n",
    "B = np.mat(\"3 -2;1 0\")\n",
    "print(B)\n",
    "eigval, eigvac = np.linalg.eig(B)\n",
    "print(eigval)\n",
    "print(eigvac)\n",
    "print()\n",
    "for i, eig in enumerate(eigval):\n",
    "    print(\"Left\", np.dot(B, eigvac[:,i]))\n",
    "    print(\"Right\", eig * eigvac[:,i])\n",
    "    print()"
   ]
  },
  {
   "cell_type": "code",
   "execution_count": 475,
   "metadata": {},
   "outputs": [
    {
     "name": "stdout",
     "output_type": "stream",
     "text": [
      "A\n",
      " [[ 4 11 14]\n",
      " [ 8  7 -2]]\n",
      "U\n",
      "[[-0.9486833  -0.31622777]\n",
      " [-0.31622777  0.9486833 ]]\n",
      "Sigma\n",
      "[18.97366596  9.48683298]\n",
      "V\n",
      "[[-0.33333333 -0.66666667 -0.66666667]\n",
      " [ 0.66666667  0.33333333 -0.66666667]]\n",
      "Product\n",
      " [[ 4. 11. 14.]\n",
      " [ 8.  7. -2.]]\n"
     ]
    }
   ],
   "source": [
    "from __future__ import print_function\n",
    "import numpy as np\n",
    "A = np.mat(\"4 11 14;8 7 -2\")\n",
    "print(\"A\\n\", A)\n",
    "U, Sigma, V = np.linalg.svd(A, full_matrices=False)\n",
    "print(\"U\")\n",
    "print(U)\n",
    "print(\"Sigma\")\n",
    "print(Sigma)\n",
    "print(\"V\")\n",
    "print(V)\n",
    "print(\"Product\\n\", U * np.diag(Sigma) * V)"
   ]
  },
  {
   "cell_type": "code",
   "execution_count": 478,
   "metadata": {},
   "outputs": [
    {
     "name": "stdout",
     "output_type": "stream",
     "text": [
      "True\n"
     ]
    },
    {
     "name": "stderr",
     "output_type": "stream",
     "text": [
      "/home/hendri/.local/lib/python3.5/site-packages/numpy/core/numeric.py:492: ComplexWarning: Casting complex values to real discards the imaginary part\n",
      "  return array(a, dtype, copy=False, order=order)\n"
     ]
    },
    {
     "data": {
      "image/png": "[encoded data removed]",
      "text/plain": [
       "<Figure size 432x288 with 1 Axes>"
      ]
     },
     "metadata": {},
     "output_type": "display_data"
    }
   ],
   "source": [
    "from __future__ import print_function\n",
    "import numpy as np\n",
    "import matplotlib.pyplot as plt\n",
    "x = np.linspace(0, 2 * np.pi, 30)\n",
    "wave = np.cos(x)\n",
    "transformed = np.fft.fft(wave)\n",
    "print(np.all(np.abs(np.fft.ifft(transformed) - wave) < 10 ** -9))\n",
    "plt.plot(transformed)\n",
    "plt.title('Transformed cosine')\n",
    "plt.xlabel('Frequency')\n",
    "plt.ylabel('Amplitude')\n",
    "plt.grid()\n",
    "plt.show()"
   ]
  },
  {
   "cell_type": "code",
   "execution_count": 481,
   "metadata": {},
   "outputs": [
    {
     "name": "stdout",
     "output_type": "stream",
     "text": [
      "True\n"
     ]
    },
    {
     "name": "stderr",
     "output_type": "stream",
     "text": [
      "/home/hendri/.local/lib/python3.5/site-packages/numpy/core/numeric.py:492: ComplexWarning: Casting complex values to real discards the imaginary part\n",
      "  return array(a, dtype, copy=False, order=order)\n"
     ]
    },
    {
     "data": {
      "image/png": "[encoded data removed]",
      "text/plain": [
       "<Figure size 432x288 with 1 Axes>"
      ]
     },
     "metadata": {},
     "output_type": "display_data"
    }
   ],
   "source": [
    "import numpy as np\n",
    "import matplotlib.pyplot as plt\n",
    "x = np.linspace(0, 2 * np.pi, 30)\n",
    "wave = np.cos(x)\n",
    "transformed = np.fft.fft(wave)\n",
    "shifted = np.fft.fftshift(transformed)\n",
    "print(np.all(np.abs(np.fft.ifftshift(shifted) - transformed) < 10 **\n",
    "-9))\n",
    "plt.plot(transformed, lw=2, label=\"Transformed\")\n",
    "plt.plot(shifted, '--', lw=3, label=\"Shifted\")\n",
    "plt.title('Shifted and transformed cosine wave')\n",
    "plt.xlabel('Frequency')\n",
    "plt.ylabel('Amplitude')\n",
    "plt.grid()\n",
    "plt.legend(loc='best')\n",
    "plt.show()"
   ]
  },
  {
   "cell_type": "code",
   "execution_count": 484,
   "metadata": {},
   "outputs": [
    {
     "name": "stderr",
     "output_type": "stream",
     "text": [
      "/home/hendri/.local/lib/python3.5/site-packages/matplotlib/axes/_axes.py:6462: UserWarning: The 'normed' kwarg is deprecated, and has been replaced by the 'density' kwarg.\n",
      "  warnings.warn(\"The 'normed' kwarg is deprecated, and has been \"\n"
     ]
    },
    {
     "ename": "TypeError",
     "evalue": "`bins` must be an integer, a string, or an array",
     "output_type": "error",
     "traceback": [
      "\u001b[0;31m---------------------------------------------------------------------------\u001b[0m",
      "\u001b[0;31mTypeError\u001b[0m                                 Traceback (most recent call last)",
      "\u001b[0;32m~/.local/lib/python3.5/site-packages/numpy/lib/function_base.py\u001b[0m in \u001b[0;36mhistogram\u001b[0;34m(a, bins, range, normed, weights, density)\u001b[0m\n\u001b[1;32m    715\u001b[0m         \u001b[0;32mtry\u001b[0m\u001b[0;34m:\u001b[0m\u001b[0;34m\u001b[0m\u001b[0m\n\u001b[0;32m--> 716\u001b[0;31m             \u001b[0mn_equal_bins\u001b[0m \u001b[0;34m=\u001b[0m \u001b[0moperator\u001b[0m\u001b[0;34m.\u001b[0m\u001b[0mindex\u001b[0m\u001b[0;34m(\u001b[0m\u001b[0mbins\u001b[0m\u001b[0;34m)\u001b[0m\u001b[0;34m\u001b[0m\u001b[0m\n\u001b[0m\u001b[1;32m    717\u001b[0m         \u001b[0;32mexcept\u001b[0m \u001b[0mTypeError\u001b[0m\u001b[0;34m:\u001b[0m\u001b[0;34m\u001b[0m\u001b[0m\n",
      "\u001b[0;31mTypeError\u001b[0m: 'numpy.float64' object cannot be interpreted as an integer",
      "\nDuring handling of the above exception, another exception occurred:\n",
      "\u001b[0;31mTypeError\u001b[0m                                 Traceback (most recent call last)",
      "\u001b[0;32m<ipython-input-484-a7e84e836909>\u001b[0m in \u001b[0;36m<module>\u001b[0;34m()\u001b[0m\n\u001b[1;32m      4\u001b[0m \u001b[0mnp\u001b[0m\u001b[0;34m.\u001b[0m\u001b[0mrandom\u001b[0m\u001b[0;34m.\u001b[0m\u001b[0mseed\u001b[0m\u001b[0;34m(\u001b[0m\u001b[0;36m27\u001b[0m\u001b[0;34m)\u001b[0m\u001b[0;34m\u001b[0m\u001b[0m\n\u001b[1;32m      5\u001b[0m \u001b[0mnormal_values\u001b[0m \u001b[0;34m=\u001b[0m \u001b[0mnp\u001b[0m\u001b[0;34m.\u001b[0m\u001b[0mrandom\u001b[0m\u001b[0;34m.\u001b[0m\u001b[0mnormal\u001b[0m\u001b[0;34m(\u001b[0m\u001b[0msize\u001b[0m\u001b[0;34m=\u001b[0m\u001b[0mN\u001b[0m\u001b[0;34m)\u001b[0m\u001b[0;34m\u001b[0m\u001b[0m\n\u001b[0;32m----> 6\u001b[0;31m \u001b[0m_\u001b[0m\u001b[0;34m,\u001b[0m \u001b[0mbins\u001b[0m\u001b[0;34m,\u001b[0m \u001b[0m_\u001b[0m \u001b[0;34m=\u001b[0m \u001b[0mplt\u001b[0m\u001b[0;34m.\u001b[0m\u001b[0mhist\u001b[0m\u001b[0;34m(\u001b[0m\u001b[0mnormal_values\u001b[0m\u001b[0;34m,\u001b[0m \u001b[0mnp\u001b[0m\u001b[0;34m.\u001b[0m\u001b[0msqrt\u001b[0m\u001b[0;34m(\u001b[0m\u001b[0mN\u001b[0m\u001b[0;34m)\u001b[0m\u001b[0;34m,\u001b[0m \u001b[0mnormed\u001b[0m\u001b[0;34m=\u001b[0m\u001b[0;32mTrue\u001b[0m\u001b[0;34m,\u001b[0m \u001b[0mlw\u001b[0m\u001b[0;34m=\u001b[0m\u001b[0;36m1\u001b[0m\u001b[0;34m,\u001b[0m\u001b[0mlabel\u001b[0m\u001b[0;34m=\u001b[0m\u001b[0;34m\"Histogram\"\u001b[0m\u001b[0;34m)\u001b[0m\u001b[0;34m\u001b[0m\u001b[0m\n\u001b[0m\u001b[1;32m      7\u001b[0m \u001b[0msigma\u001b[0m \u001b[0;34m=\u001b[0m \u001b[0;36m1\u001b[0m\u001b[0;34m\u001b[0m\u001b[0m\n\u001b[1;32m      8\u001b[0m \u001b[0mmu\u001b[0m \u001b[0;34m=\u001b[0m \u001b[0;36m0\u001b[0m\u001b[0;34m\u001b[0m\u001b[0m\n",
      "\u001b[0;32m~/.local/lib/python3.5/site-packages/matplotlib/pyplot.py\u001b[0m in \u001b[0;36mhist\u001b[0;34m(x, bins, range, density, weights, cumulative, bottom, histtype, align, orientation, rwidth, log, color, label, stacked, normed, hold, data, **kwargs)\u001b[0m\n\u001b[1;32m   3130\u001b[0m                       \u001b[0mhisttype\u001b[0m\u001b[0;34m=\u001b[0m\u001b[0mhisttype\u001b[0m\u001b[0;34m,\u001b[0m \u001b[0malign\u001b[0m\u001b[0;34m=\u001b[0m\u001b[0malign\u001b[0m\u001b[0;34m,\u001b[0m \u001b[0morientation\u001b[0m\u001b[0;34m=\u001b[0m\u001b[0morientation\u001b[0m\u001b[0;34m,\u001b[0m\u001b[0;34m\u001b[0m\u001b[0m\n\u001b[1;32m   3131\u001b[0m                       \u001b[0mrwidth\u001b[0m\u001b[0;34m=\u001b[0m\u001b[0mrwidth\u001b[0m\u001b[0;34m,\u001b[0m \u001b[0mlog\u001b[0m\u001b[0;34m=\u001b[0m\u001b[0mlog\u001b[0m\u001b[0;34m,\u001b[0m \u001b[0mcolor\u001b[0m\u001b[0;34m=\u001b[0m\u001b[0mcolor\u001b[0m\u001b[0;34m,\u001b[0m \u001b[0mlabel\u001b[0m\u001b[0;34m=\u001b[0m\u001b[0mlabel\u001b[0m\u001b[0;34m,\u001b[0m\u001b[0;34m\u001b[0m\u001b[0m\n\u001b[0;32m-> 3132\u001b[0;31m                       stacked=stacked, normed=normed, data=data, **kwargs)\n\u001b[0m\u001b[1;32m   3133\u001b[0m     \u001b[0;32mfinally\u001b[0m\u001b[0;34m:\u001b[0m\u001b[0;34m\u001b[0m\u001b[0m\n\u001b[1;32m   3134\u001b[0m         \u001b[0max\u001b[0m\u001b[0;34m.\u001b[0m\u001b[0m_hold\u001b[0m \u001b[0;34m=\u001b[0m \u001b[0mwashold\u001b[0m\u001b[0;34m\u001b[0m\u001b[0m\n",
      "\u001b[0;32m~/.local/lib/python3.5/site-packages/matplotlib/__init__.py\u001b[0m in \u001b[0;36minner\u001b[0;34m(ax, *args, **kwargs)\u001b[0m\n\u001b[1;32m   1853\u001b[0m                         \u001b[0;34m\"the Matplotlib list!)\"\u001b[0m \u001b[0;34m%\u001b[0m \u001b[0;34m(\u001b[0m\u001b[0mlabel_namer\u001b[0m\u001b[0;34m,\u001b[0m \u001b[0mfunc\u001b[0m\u001b[0;34m.\u001b[0m\u001b[0m__name__\u001b[0m\u001b[0;34m)\u001b[0m\u001b[0;34m,\u001b[0m\u001b[0;34m\u001b[0m\u001b[0m\n\u001b[1;32m   1854\u001b[0m                         RuntimeWarning, stacklevel=2)\n\u001b[0;32m-> 1855\u001b[0;31m             \u001b[0;32mreturn\u001b[0m \u001b[0mfunc\u001b[0m\u001b[0;34m(\u001b[0m\u001b[0max\u001b[0m\u001b[0;34m,\u001b[0m \u001b[0;34m*\u001b[0m\u001b[0margs\u001b[0m\u001b[0;34m,\u001b[0m \u001b[0;34m**\u001b[0m\u001b[0mkwargs\u001b[0m\u001b[0;34m)\u001b[0m\u001b[0;34m\u001b[0m\u001b[0m\n\u001b[0m\u001b[1;32m   1856\u001b[0m \u001b[0;34m\u001b[0m\u001b[0m\n\u001b[1;32m   1857\u001b[0m         inner.__doc__ = _add_data_doc(inner.__doc__,\n",
      "\u001b[0;32m~/.local/lib/python3.5/site-packages/matplotlib/axes/_axes.py\u001b[0m in \u001b[0;36mhist\u001b[0;34m(***failed resolving arguments***)\u001b[0m\n\u001b[1;32m   6528\u001b[0m             \u001b[0;31m# this will automatically overwrite bins,\u001b[0m\u001b[0;34m\u001b[0m\u001b[0;34m\u001b[0m\u001b[0m\n\u001b[1;32m   6529\u001b[0m             \u001b[0;31m# so that each histogram uses the same bins\u001b[0m\u001b[0;34m\u001b[0m\u001b[0;34m\u001b[0m\u001b[0m\n\u001b[0;32m-> 6530\u001b[0;31m             \u001b[0mm\u001b[0m\u001b[0;34m,\u001b[0m \u001b[0mbins\u001b[0m \u001b[0;34m=\u001b[0m \u001b[0mnp\u001b[0m\u001b[0;34m.\u001b[0m\u001b[0mhistogram\u001b[0m\u001b[0;34m(\u001b[0m\u001b[0mx\u001b[0m\u001b[0;34m[\u001b[0m\u001b[0mi\u001b[0m\u001b[0;34m]\u001b[0m\u001b[0;34m,\u001b[0m \u001b[0mbins\u001b[0m\u001b[0;34m,\u001b[0m \u001b[0mweights\u001b[0m\u001b[0;34m=\u001b[0m\u001b[0mw\u001b[0m\u001b[0;34m[\u001b[0m\u001b[0mi\u001b[0m\u001b[0;34m]\u001b[0m\u001b[0;34m,\u001b[0m \u001b[0;34m**\u001b[0m\u001b[0mhist_kwargs\u001b[0m\u001b[0;34m)\u001b[0m\u001b[0;34m\u001b[0m\u001b[0m\n\u001b[0m\u001b[1;32m   6531\u001b[0m             \u001b[0mm\u001b[0m \u001b[0;34m=\u001b[0m \u001b[0mm\u001b[0m\u001b[0;34m.\u001b[0m\u001b[0mastype\u001b[0m\u001b[0;34m(\u001b[0m\u001b[0mfloat\u001b[0m\u001b[0;34m)\u001b[0m  \u001b[0;31m# causes problems later if it's an int\u001b[0m\u001b[0;34m\u001b[0m\u001b[0m\n\u001b[1;32m   6532\u001b[0m             \u001b[0;32mif\u001b[0m \u001b[0mmlast\u001b[0m \u001b[0;32mis\u001b[0m \u001b[0;32mNone\u001b[0m\u001b[0;34m:\u001b[0m\u001b[0;34m\u001b[0m\u001b[0m\n",
      "\u001b[0;32m~/.local/lib/python3.5/site-packages/numpy/lib/function_base.py\u001b[0m in \u001b[0;36mhistogram\u001b[0;34m(a, bins, range, normed, weights, density)\u001b[0m\n\u001b[1;32m    717\u001b[0m         \u001b[0;32mexcept\u001b[0m \u001b[0mTypeError\u001b[0m\u001b[0;34m:\u001b[0m\u001b[0;34m\u001b[0m\u001b[0m\n\u001b[1;32m    718\u001b[0m             raise TypeError(\n\u001b[0;32m--> 719\u001b[0;31m                 '`bins` must be an integer, a string, or an array')\n\u001b[0m\u001b[1;32m    720\u001b[0m         \u001b[0;32mif\u001b[0m \u001b[0mn_equal_bins\u001b[0m \u001b[0;34m<\u001b[0m \u001b[0;36m1\u001b[0m\u001b[0;34m:\u001b[0m\u001b[0;34m\u001b[0m\u001b[0m\n\u001b[1;32m    721\u001b[0m             \u001b[0;32mraise\u001b[0m \u001b[0mValueError\u001b[0m\u001b[0;34m(\u001b[0m\u001b[0;34m'`bins` must be positive, when an integer'\u001b[0m\u001b[0;34m)\u001b[0m\u001b[0;34m\u001b[0m\u001b[0m\n",
      "\u001b[0;31mTypeError\u001b[0m: `bins` must be an integer, a string, or an array"
     ]
    },
    {
     "data": {
      "image/png": "[encoded data removed]",
      "text/plain": [
       "<Figure size 432x288 with 1 Axes>"
      ]
     },
     "metadata": {},
     "output_type": "display_data"
    }
   ],
   "source": [
    "\n",
    "import matplotlib.pyplot as plt\n",
    "N=10000\n",
    "np.random.seed(27)\n",
    "normal_values = np.random.normal(size=N)\n",
    "_, bins, _ = plt.hist(normal_values, np.sqrt(N), normed=True, lw=1,label=\"Histogram\")\n",
    "sigma = 1\n",
    "mu = 0\n",
    "\n",
    "plt.plot(bins, 1/(sigma * np.sqrt(2 * np.pi)) * np.exp( - (bins - mu)**2 / (2 * sigma**2) ), '--', lw=3, label=\"PDF\")\n",
    "plt.title('Normal distribution')\n",
    "plt.xlabel('Value')\n",
    "plt.ylabel('Normalized Frequency')\n",
    "plt.grid()\n",
    "plt.legend(loc='best')\n",
    "plt.show()"
   ]
  }
 ],
 "metadata": {
  "kernelspec": {
   "display_name": "Python 3",
   "language": "python",
   "name": "python3"
  },
  "language_info": {
   "codemirror_mode": {
    "name": "ipython",
    "version": 3
   },
   "file_extension": ".py",
   "mimetype": "text/x-python",
   "name": "python",
   "nbconvert_exporter": "python",
   "pygments_lexer": "ipython3",
   "version": "3.5.2"
  }
 },
 "nbformat": 4,
 "nbformat_minor": 2
}
